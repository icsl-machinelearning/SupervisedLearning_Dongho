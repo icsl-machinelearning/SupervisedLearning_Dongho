{
 "cells": [
  {
   "cell_type": "code",
   "execution_count": 2,
   "metadata": {},
   "outputs": [
    {
     "name": "stdout",
     "output_type": "stream",
     "text": [
      "150\n"
     ]
    }
   ],
   "source": [
    "from sklearn import svm, metrics\n",
    "import random, re\n",
    "from sklearn import datasets\n",
    "from sklearn.model_selection import train_test_split\n",
    "from sklearn.preprocessing import StandardScaler\n",
    "import numpy as np\n",
    "from matplotlib import pyplot as plt\n",
    "import mglearn\n",
    "from matplotlib import font_manager, rc\n",
    "\n",
    "#붓꽃 데이터 로딩\n",
    "iris = datasets.load_iris()\n",
    "\n",
    "# 2,3열만 선택 (3,4 번째 필드)\n",
    "X = iris.data[:, [2, 3]]\n",
    "y = iris.target\n",
    "\n",
    "print(len(X))"
   ]
  },
  {
   "cell_type": "code",
   "execution_count": 11,
   "metadata": {},
   "outputs": [
    {
     "name": "stdout",
     "output_type": "stream",
     "text": [
      "Accuracy for train data set: 0.971\n",
      "Accuracy for test data set: 0.978\n"
     ]
    }
   ],
   "source": [
    "# 데이터 셋 분리(7:3)\n",
    "X_train, X_test, y_train, y_test = train_test_split(\n",
    "X, y, test_size=0.3, random_state=0)\n",
    "\n",
    "#SVM 모델 생성\n",
    "model = svm.SVC()\n",
    "\n",
    "#데이터 학습\n",
    "model.fit(X_train, y_train)\n",
    "print(\"Accuracy for train data set: {:.3f}\".format(model.score(X_train,y_train)))\n",
    "print(\"Accuracy for test data set: {:.3f}\".format(model.score(X_test,y_test)))"
   ]
  },
  {
   "cell_type": "code",
   "execution_count": 39,
   "metadata": {},
   "outputs": [
    {
     "name": "stdout",
     "output_type": "stream",
     "text": [
      "Generate the data set, {'thin': 9696, 'normal': 8754, 'fat': 11550}\n"
     ]
    }
   ],
   "source": [
    "import random\n",
    "\n",
    "#BMI를 계산해서 레이블을 리턴하는 함수\n",
    "def calc_bmi(h, w):\n",
    "    bmi = w / (h/100) **2\n",
    "    if bmi < 18.5: return \"thin\"\n",
    "    if bmi < 25: return \"normal\"\n",
    "    return \"fat\"\n",
    "\n",
    "#출력 파일 준비하기\n",
    "fp = open(\"D:/data/bmi/bmi.csv\",\"w\",encoding=\"utf-8\")\n",
    "fp.write(\"height,weight,label\\r\\n\")\n",
    "#무작위로 데이터 생성하기\n",
    "cnt = {\"thin\":0, \"normal\":0, \"fat\":0}\n",
    "for i in range(30000):\n",
    "    h = random.randint(120, 200)\n",
    "    w = random.randint(35, 80)\n",
    "    label = calc_bmi(h, w)\n",
    "    cnt[label] += 1\n",
    "    fp.write(\"{0},{1},{2}\\r\\n\".format(h, w, label))\n",
    "fp.close()\n",
    "print(\"Generate the data set,\", cnt)"
   ]
  },
  {
   "cell_type": "code",
   "execution_count": 3,
   "metadata": {
    "scrolled": true
   },
   "outputs": [
    {
     "name": "stdout",
     "output_type": "stream",
     "text": [
      "Accuracy for train data: 0.989\n",
      "Accuracy for test data: 0.991\n",
      "Report :\n",
      "              precision    recall  f1-score   support\n",
      "\n",
      "        fat       1.00      0.99      1.00      2908\n",
      "     normal       0.98      0.99      0.99      2158\n",
      "       thin       0.99      0.99      0.99      2434\n",
      "\n",
      "avg / total       0.99      0.99      0.99      7500\n",
      "\n"
     ]
    }
   ],
   "source": [
    "from sklearn import svm, metrics\n",
    "from sklearn.model_selection import train_test_split\n",
    "import matplotlib.pyplot as plt\n",
    "import pandas as pd\n",
    "\n",
    "#데이터 로딩\n",
    "tb1 = pd.read_csv(\"D:/data/bmi/bmi.csv\") \n",
    "\n",
    "#열(column)을 자르고 정규화\n",
    "label = tb1[\"label\"]\n",
    "w     = tb1[\"weight\"] / 80 # 최대 100kg이라고 가정\n",
    "h     = tb1[\"height\"] / 200 # 최대 200cm라고 가정\n",
    "\n",
    "#데이터 정규화 (0~1 사이의 값)\n",
    "wh = pd.concat([w, h], axis=1)\n",
    "#print(wh)\n",
    "\n",
    "# 학습용 데이터셋과 검증용 데이터 셋으로 분리(75:25로 분리)\n",
    "#ata_train, data_test, label_train, label_test = \\\n",
    "#   train_test_split(wh, label)\n",
    "\n",
    "data_train, data_test, label_train, label_test = train_test_split(\n",
    "    wh, label, test_size = 0.25, random_state=0)\n",
    "\n",
    "\n",
    "#데이터 학습\n",
    "clf = svm.SVC()\n",
    "clf.fit(data_train, label_train)\n",
    "#데이터 예측\n",
    "predict = clf.predict(data_test)\n",
    "\n",
    "print(\"Accuracy for train data: {:.3f}\".format(clf.score(data_train,label_train)))\n",
    "print(\"Accuracy for test data: {:.3f}\".format(clf.score(data_test,label_test)))\n",
    "\n",
    "#metrics  패키지에서 리포트\n",
    "c1_report = metrics.classification_report(label_test, predict)\n",
    "print(\"Report :\\n\", c1_report)\n",
    "\n"
   ]
  },
  {
   "cell_type": "code",
   "execution_count": 46,
   "metadata": {},
   "outputs": [
    {
     "data": {
      "image/png": "[encoded data removed]",
      "text/plain": [
       "<Figure size 432x288 with 1 Axes>"
      ]
     },
     "metadata": {},
     "output_type": "display_data"
    }
   ],
   "source": [
    "import matplotlib.pyplot as plt\n",
    "import pandas as pd\n",
    "\n",
    "# 판다스로 CSV 파일 로딩\n",
    "tb1 = pd.read_csv(\"D:/data/bmi/bmi.csv\", index_col = 2)\n",
    "\n",
    "# 그래프 그리기\n",
    "fig = plt.figure()\n",
    "ax = fig.add_subplot(1, 1, 1)\n",
    "\n",
    "# 서브 플롯에 지정한 레이블을 임의의 색으로 칠하기\n",
    "def scatter(lbl, color ):\n",
    "    b = tb1.loc[lbl]\n",
    "    ax.scatter(b[\"weight\"],b[\"height\"], c=color, label=lbl)\n",
    "    \n",
    "    \n",
    "scatter(\"fat\", \"red\")\n",
    "scatter(\"normal\", \"yellow\")\n",
    "scatter(\"thin\", \"purple\")\n",
    "ax.legend(loc=2) # legend(범례)위치\n",
    "plt.savefig(\"D:/data/bmi/bmi-result.png\")\n",
    "    "
   ]
  }
 ],
 "metadata": {
  "kernelspec": {
   "display_name": "Python 3",
   "language": "python",
   "name": "python3"
  },
  "language_info": {
   "codemirror_mode": {
    "name": "ipython",
    "version": 3
   },
   "file_extension": ".py",
   "mimetype": "text/x-python",
   "name": "python",
   "nbconvert_exporter": "python",
   "pygments_lexer": "ipython3",
   "version": "3.6.5"
  }
 },
 "nbformat": 4,
 "nbformat_minor": 2
}
